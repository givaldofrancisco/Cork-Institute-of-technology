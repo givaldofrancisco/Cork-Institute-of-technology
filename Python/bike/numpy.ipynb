{
 "cells": [
  {
   "cell_type": "code",
   "execution_count": 49,
   "metadata": {},
   "outputs": [
    {
     "name": "stdout",
     "output_type": "stream",
     "text": [
      "[ 1.      1.      0.      1.      0.      0.      6.      0.      1.\n",
      "  0.24    0.2879  0.81    0.      3.     13.     16.    ]\n"
     ]
    }
   ],
   "source": [
    "import numpy as np\n",
    "\n",
    "\n",
    "data  = np.genfromtxt(\"bikeSharing.csv\", delimiter = ',')\n",
    "print (data[0])\n",
    "\n"
   ]
  },
  {
   "cell_type": "code",
   "execution_count": 50,
   "metadata": {},
   "outputs": [
    {
     "data": {
      "text/plain": [
       "(17379, 16)"
      ]
     },
     "execution_count": 50,
     "metadata": {},
     "output_type": "execute_result"
    }
   ],
   "source": [
    "data.shape"
   ]
  },
  {
   "cell_type": "code",
   "execution_count": 27,
   "metadata": {},
   "outputs": [],
   "source": [
    "from numpy import genfromtxt\n",
    "data = genfromtxt('bikeSharing.csv', delimiter=',')"
   ]
  },
  {
   "cell_type": "code",
   "execution_count": 28,
   "metadata": {},
   "outputs": [
    {
     "data": {
      "text/plain": [
       "array([[1.0000e+00, 1.0000e+00, 0.0000e+00, ..., 3.0000e+00, 1.3000e+01,\n",
       "        1.6000e+01],\n",
       "       [2.0000e+00, 1.0000e+00, 0.0000e+00, ..., 8.0000e+00, 3.2000e+01,\n",
       "        4.0000e+01],\n",
       "       [3.0000e+00, 1.0000e+00, 0.0000e+00, ..., 5.0000e+00, 2.7000e+01,\n",
       "        3.2000e+01],\n",
       "       ...,\n",
       "       [1.7377e+04, 1.0000e+00, 1.0000e+00, ..., 7.0000e+00, 8.3000e+01,\n",
       "        9.0000e+01],\n",
       "       [1.7378e+04, 1.0000e+00, 1.0000e+00, ..., 1.3000e+01, 4.8000e+01,\n",
       "        6.1000e+01],\n",
       "       [1.7379e+04, 1.0000e+00, 1.0000e+00, ..., 1.2000e+01, 3.7000e+01,\n",
       "        4.9000e+01]])"
      ]
     },
     "execution_count": 28,
     "metadata": {},
     "output_type": "execute_result"
    }
   ],
   "source": [
    "data"
   ]
  },
  {
   "cell_type": "code",
   "execution_count": 29,
   "metadata": {},
   "outputs": [
    {
     "data": {
      "text/plain": [
       "(17379, 16)"
      ]
     },
     "execution_count": 29,
     "metadata": {},
     "output_type": "execute_result"
    }
   ],
   "source": [
    "data.shape"
   ]
  },
  {
   "cell_type": "code",
   "execution_count": 33,
   "metadata": {},
   "outputs": [],
   "source": [
    "\n",
    "\n",
    "subsetData = data[data[:,5 ] == 0]\n",
    "\n"
   ]
  },
  {
   "cell_type": "code",
   "execution_count": 36,
   "metadata": {},
   "outputs": [
    {
     "data": {
      "text/plain": [
       "(16879, 16)"
      ]
     },
     "execution_count": 36,
     "metadata": {},
     "output_type": "execute_result"
    }
   ],
   "source": [
    "subsetData.shape"
   ]
  },
  {
   "cell_type": "code",
   "execution_count": 37,
   "metadata": {},
   "outputs": [
    {
     "name": "stdout",
     "output_type": "stream",
     "text": [
      "SubsetData  190.4285798921737\n"
     ]
    }
   ],
   "source": [
    "print (\"SubsetData \", np.mean(subsetData[:, 15]))\n"
   ]
  },
  {
   "cell_type": "code",
   "execution_count": null,
   "metadata": {},
   "outputs": [],
   "source": []
  },
  {
   "cell_type": "code",
   "execution_count": 38,
   "metadata": {},
   "outputs": [],
   "source": [
    "\n",
    "# Solution to Q1 (i)\n",
    "\n",
    "def compareHolidays(data, holiday):\n",
    "    subset = data[data[:, 5] == holiday]\n",
    "    print (\"\\nHoliday value is \", holiday)\n",
    "    print (\"Total number of users \", len(subset))\n",
    "    print (\"Mean number of userrs \", np.mean(subset[:, 15]))\n",
    "\n",
    "\n"
   ]
  },
  {
   "cell_type": "code",
   "execution_count": null,
   "metadata": {},
   "outputs": [],
   "source": []
  },
  {
   "cell_type": "code",
   "execution_count": null,
   "metadata": {},
   "outputs": [],
   "source": []
  },
  {
   "cell_type": "code",
   "execution_count": 46,
   "metadata": {},
   "outputs": [],
   "source": [
    "copyBikeData = np.copy(subsetData) \n",
    "copyBikeData[:, 9] *= 41.0"
   ]
  },
  {
   "cell_type": "code",
   "execution_count": 48,
   "metadata": {},
   "outputs": [
    {
     "data": {
      "text/plain": [
       "array([ 9.84,  9.02,  9.02, ..., 10.66, 10.66, 10.66])"
      ]
     },
     "execution_count": 48,
     "metadata": {},
     "output_type": "execute_result"
    }
   ],
   "source": [
    "copyBikeData[:, 9]"
   ]
  },
  {
   "cell_type": "code",
   "execution_count": 47,
   "metadata": {},
   "outputs": [],
   "source": [
    "\n",
    "    \n",
    "# Solution to Q1 (ii)\n",
    "\n",
    "\n",
    "def normalization(bikeData):\n",
    "    \n",
    "    copyBikeData = np.copy(bikeData)\n",
    "    \n",
    "    copyBikeData[:, 9] *= 41.0\n",
    "    \n",
    "    print (copyBikeData[:, 9])\n",
    "    \n",
    " "
   ]
  },
  {
   "cell_type": "code",
   "execution_count": 40,
   "metadata": {},
   "outputs": [],
   "source": [
    "   \n",
    "\n",
    "# Solution to Q1 (iii)\n",
    "\n",
    "def percentageCausal(bikeData):\n",
    "    \n",
    "    result = bikeData[:, 13]>bikeData[:, 14]\n",
    "    print ('Percentage of time where causal users > registered ', (len(bikeData[result])*100.0)/len(bikeData)) \n",
    "\n",
    "\n"
   ]
  },
  {
   "cell_type": "code",
   "execution_count": 41,
   "metadata": {},
   "outputs": [],
   "source": [
    "\n",
    "\n",
    "\n",
    "# Solution to Q1 (iv)\n",
    "\n",
    "def averageNumRentalBikesPerCondition(data):\n",
    "    \n",
    "    conditions = {1:\"Clear\", 2:\"Misty\", 3:\"Light Rain\", 4:\"Heavy Rain\"}\n",
    "    \n",
    "    for key in conditions:\n",
    "        subsetData = data[data[:,8]==key]\n",
    "        print (\"Mean users for weather = \", conditions[key], \": \", np.mean(subsetData[:, 15]))\n"
   ]
  },
  {
   "cell_type": "code",
   "execution_count": 42,
   "metadata": {},
   "outputs": [],
   "source": [
    "\n",
    "\n",
    "\n",
    "# solution to Q1 (v)\n",
    "\n",
    "def analyseTemp(data, minValue, maxValue):\n",
    "    # the temperature values stored in the array are multiplied by 41 \n",
    "    \n",
    "    higherTempCondition = (data[:,9]*41)>=minValue    \n",
    "    lowerTempCondition = (data[:,9]*41)<=maxValue\n",
    "    \n",
    "    subset = data[higherTempCondition & lowerTempCondition]\n",
    "\n",
    "    meanValue = np.mean(subset[:, 15])\n",
    "    print (\"For temp in range \", minValue, \"to\", maxValue, \"the mean number of casual users was \", meanValue)\n",
    "\n",
    "\n"
   ]
  },
  {
   "cell_type": "code",
   "execution_count": 43,
   "metadata": {},
   "outputs": [
    {
     "name": "stdout",
     "output_type": "stream",
     "text": [
      "\n",
      "Holiday value is  0\n",
      "Total number of users  16879\n",
      "Mean number of userrs  190.4285798921737\n",
      "\n",
      "Holiday value is  1\n",
      "Total number of users  500\n",
      "Mean number of userrs  156.87\n",
      "[ 9.84  9.02  9.02 ... 10.66 10.66 10.66]\n",
      "Percentage of time where causal users > registered  1.6284020944818458\n",
      "Mean users for weather =  Clear :  204.8692718829405\n",
      "Mean users for weather =  Misty :  175.16549295774647\n",
      "Mean users for weather =  Light Rain :  111.57928118393235\n",
      "Mean users for weather =  Heavy Rain :  74.33333333333333\n",
      "For temp in range  1 to 5 the mean number of casual users was  49.29545454545455\n",
      "For temp in range  6 to 10 the mean number of casual users was  73.66706302021403\n",
      "For temp in range  11 to 15 the mean number of casual users was  130.68177065179506\n",
      "For temp in range  16 to 20 the mean number of casual users was  169.06677265500795\n",
      "For temp in range  21 to 25 the mean number of casual users was  211.70007451564828\n",
      "For temp in range  26 to 30 the mean number of casual users was  242.17267869071478\n",
      "For temp in range  31 to 35 the mean number of casual users was  337.4730056406124\n",
      "For temp in range  36 to 40 the mean number of casual users was  314.99111111111114\n"
     ]
    }
   ],
   "source": [
    "\n",
    "\n",
    "def main():\n",
    "    \n",
    "    bikeData = np.genfromtxt(\"bikeSharing.csv\", delimiter = ',')\n",
    "    \n",
    "    \n",
    "    \n",
    "    # Q1 (i)\n",
    "    compareHolidays(bikeData, 0)\n",
    "    compareHolidays(bikeData, 1)\n",
    "    \n",
    "    # Q1 (ii)\n",
    "    normalization(bikeData)\n",
    "    \n",
    "    # Q1 (iii)\n",
    "    percentageCausal(bikeData)\n",
    "    \n",
    "    # Q1 (iv)\n",
    "    averageNumRentalBikesPerCondition(bikeData)\n",
    "    \n",
    "    # Q1 (v)\n",
    "    for temp in range(1, 40, 5):\n",
    "        analyseTemp(bikeData, temp, temp+4)\n",
    "    \n",
    "    \n",
    "    \n",
    "    \n",
    "main()"
   ]
  },
  {
   "cell_type": "code",
   "execution_count": null,
   "metadata": {},
   "outputs": [],
   "source": []
  }
 ],
 "metadata": {
  "kernelspec": {
   "display_name": "Python 3",
   "language": "python",
   "name": "python3"
  },
  "language_info": {
   "codemirror_mode": {
    "name": "ipython",
    "version": 3
   },
   "file_extension": ".py",
   "mimetype": "text/x-python",
   "name": "python",
   "nbconvert_exporter": "python",
   "pygments_lexer": "ipython3",
   "version": "3.7.3"
  }
 },
 "nbformat": 4,
 "nbformat_minor": 2
}
